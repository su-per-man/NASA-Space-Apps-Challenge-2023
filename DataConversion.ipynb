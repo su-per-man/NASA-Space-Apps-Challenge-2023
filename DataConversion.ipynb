{
 "cells": [
  {
   "cell_type": "code",
   "execution_count": 70,
   "id": "34474ae8-28d7-4c63-880a-40b9dbfdd597",
   "metadata": {
    "tags": []
   },
   "outputs": [],
   "source": [
    "import os\n",
    "import xarray as xr\n",
    "\n",
    "def merge_datasets(directory, columns_to_merge):\n",
    "    all_data = []\n",
    "\n",
    "    # List all files in the directory\n",
    "    files = os.listdir(directory)\n",
    "\n",
    "    for file in files:\n",
    "        if file.endswith('.nc'):\n",
    "            file_path = os.path.join(directory, file)\n",
    "\n",
    "            # Load data from the .nc file using xarray\n",
    "            data = xr.open_dataset(file_path)\n",
    "\n",
    "            # Select only the desired columns\n",
    "            data_subset = data[columns_to_merge]\n",
    "\n",
    "            # Append to the list of xarray datasets\n",
    "            all_data.append(data_subset)\n",
    "\n",
    "    # Concatenate all xarray datasets along the desired dimension (e.g., 'time')\n",
    "    merged_data = xr.concat(all_data, dim='time')\n",
    "\n",
    "    return merged_data"
   ]
  },
  {
   "cell_type": "code",
   "execution_count": 71,
   "id": "1e13aad2-775d-4fe1-bd32-3f84e34a8d3d",
   "metadata": {
    "tags": []
   },
   "outputs": [],
   "source": [
    "directory1 = 'fc1'\n",
    "# List of columns you want to merge\n",
    "columns_to_merge = ['time', 'proton_speed', 'proton_density', 'proton_temperature']  # Replace with your actual column names\n",
    "\n",
    "merged_data1 = merge_datasets(directory1, columns_to_merge)"
   ]
  },
  {
   "cell_type": "code",
   "execution_count": 72,
   "id": "8411438f-9925-4a7a-8848-364a501b0dd4",
   "metadata": {
    "tags": []
   },
   "outputs": [],
   "source": [
    "directory2 = 'mg1'\n",
    "\n",
    "# List of columns you want to merge\n",
    "columns_to_merge = ['time', 'bt', 'bx_gse', 'by_gse', 'bz_gse']  # Replace with your actual column names\n",
    "\n",
    "merged_data2 = merge_datasets(directory2, columns_to_merge)"
   ]
  },
  {
   "cell_type": "code",
   "execution_count": 76,
   "id": "9515e0a0-4908-47b8-b3dc-fdee4688177a",
   "metadata": {
    "tags": []
   },
   "outputs": [],
   "source": [
    "merged_data1.to_dataframe().sort_values(by='time').to_csv('fc1.csv')"
   ]
  },
  {
   "cell_type": "code",
   "execution_count": 77,
   "id": "45c77eb2-84bf-4b23-8762-03becabd9a05",
   "metadata": {
    "tags": []
   },
   "outputs": [],
   "source": [
    "merged_data2.to_dataframe().sort_values(by='time').to_csv('mg1.csv')"
   ]
  },
  {
   "cell_type": "code",
   "execution_count": null,
   "id": "95f7229e-78c5-4665-8aea-36bf83f0151a",
   "metadata": {},
   "outputs": [],
   "source": []
  }
 ],
 "metadata": {
  "kernelspec": {
   "display_name": "Python 3 (ipykernel)",
   "language": "python",
   "name": "python3"
  },
  "language_info": {
   "codemirror_mode": {
    "name": "ipython",
    "version": 3
   },
   "file_extension": ".py",
   "mimetype": "text/x-python",
   "name": "python",
   "nbconvert_exporter": "python",
   "pygments_lexer": "ipython3",
   "version": "3.11.5"
  }
 },
 "nbformat": 4,
 "nbformat_minor": 5
}
